{
 "cells": [
  {
   "cell_type": "code",
   "execution_count": 96,
   "metadata": {},
   "outputs": [],
   "source": [
    "fee_percentage = var('f')\n",
    "one_buy_token = var('b1') # 12\n",
    "one_sell_token = var('s1') # 18\n",
    "spent_amount = var('c')\n",
    "purchased_amount = var('r')\n",
    "target_amount = var('a')\n",
    "target_price = var('p')\n",
    "order_price = var('o')\n",
    "\n",
    "fee_for = lambda amt: amt * fee_percentage / (10**18 - fee_percentage)\n",
    "with_fee = lambda amt: amt + fee_for(amt)\n",
    "\n",
    "return_at_price = lambda amt, price: one_buy_token * amt / price\n",
    "cost_at_price = lambda amt, price: price * amt / one_buy_token\n",
    "\n",
    "price_for = lambda cost, ret: with_fee(cost) * one_buy_token / ret"
   ]
  },
  {
   "cell_type": "code",
   "execution_count": 97,
   "metadata": {},
   "outputs": [
    {
     "data": {
      "text/html": [
       "<html><script type=\"math/tex; mode=display\">\\newcommand{\\Bold}[1]{\\mathbf{#1}}p = \\frac{{\\left(a + c - \\frac{{\\left(a + c\\right)} f}{f - 1000000000000000000}\\right)} b_{1}}{\\frac{a b_{1}}{o} + r}</script></html>"
      ],
      "text/plain": [
       "p == (a + c - (a + c)*f/(f - 1000000000000000000))*b1/(a*b1/o + r)"
      ]
     },
     "metadata": {},
     "output_type": "display_data"
    },
    {
     "data": {
      "text/html": [
       "<html><script type=\"math/tex; mode=display\">\\newcommand{\\Bold}[1]{\\mathbf{#1}}a = -\\frac{{\\left(f - 1000000000000000000\\right)} o p r + 1000000000000000000 \\, b_{1} c o}{1000000000000000000 \\, b_{1} o + {\\left(b_{1} f - 1000000000000000000 \\, b_{1}\\right)} p}</script></html>"
      ],
      "text/plain": [
       "a == -((f - 1000000000000000000)*o*p*r + 1000000000000000000*b1*c*o)/(1000000000000000000*b1*o + (b1*f - 1000000000000000000*b1)*p)"
      ]
     },
     "metadata": {},
     "output_type": "display_data"
    }
   ],
   "source": [
    "eq = [\n",
    "    target_price == price_for(spent_amount+target_amount,purchased_amount+ return_at_price(target_amount,order_price))\n",
    "]\n",
    "eq += eq[0].solve(a)\n",
    "eq += [\n",
    "    target_amount == \n",
    "]\n",
    "\n",
    "for i in eq: i.show()"
   ]
  },
  {
   "cell_type": "code",
   "execution_count": 110,
   "metadata": {},
   "outputs": [
    {
     "data": {
      "text/plain": [
       "178.170055452865"
      ]
     },
     "execution_count": 110,
     "metadata": {},
     "output_type": "execute_result"
    }
   ],
   "source": [
    "cost = 200\n",
    "ret = 100\n",
    "eq[0].subs(b1=1).subs(f=2*10^15).subs(c=cost).subs(r=ret).subs(o=2.1).subs(p=2.05).solve(a)[0].rhs().n()"
   ]
  },
  {
   "cell_type": "code",
   "execution_count": 108,
   "metadata": {},
   "outputs": [
    {
     "name": "stdout",
     "output_type": "stream",
     "text": [
      "2.00400801603206\n"
     ]
    }
   ],
   "source": [
    "p1 = (10^18 - f)*target_price\n",
    "p2 = 10^18 * one_buy_token * spent_amount\n",
    "p3 = (p2 - p1) * order_price\n",
    "p4 = 10^18 * one_buy_token\n",
    "p5 = p4 * order_price\n",
    "p6 = p4 * target_price\n",
    "p7 = target_price * one_buy_token*fee_percentage\n",
    "print(price_for(cost,ret).subs(b1=1).subs(f=2*10^15).n())"
   ]
  },
  {
   "cell_type": "markdown",
   "metadata": {},
   "source": []
  },
  {
   "cell_type": "code",
   "execution_count": null,
   "metadata": {},
   "outputs": [],
   "source": []
  }
 ],
 "metadata": {
  "kernelspec": {
   "display_name": "SageMath 9.1",
   "language": "sage",
   "name": "sagemath"
  },
  "language_info": {
   "codemirror_mode": {
    "name": "ipython",
    "version": 3
   },
   "file_extension": ".py",
   "mimetype": "text/x-python",
   "name": "python",
   "nbconvert_exporter": "python",
   "pygments_lexer": "ipython3",
   "version": "3.7.3"
  }
 },
 "nbformat": 4,
 "nbformat_minor": 2
}
